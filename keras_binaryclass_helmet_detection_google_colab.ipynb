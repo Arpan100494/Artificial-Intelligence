{
  "nbformat": 4,
  "nbformat_minor": 0,
  "metadata": {
    "kernelspec": {
      "display_name": "Python 3",
      "language": "python",
      "name": "python3"
    },
    "language_info": {
      "codemirror_mode": {
        "name": "ipython",
        "version": 3
      },
      "file_extension": ".py",
      "mimetype": "text/x-python",
      "name": "python",
      "nbconvert_exporter": "python",
      "pygments_lexer": "ipython3",
      "version": "3.7.2"
    },
    "colab": {
      "name": "keras-multiclass-demo.ipynb",
      "version": "0.3.2",
      "provenance": []
    }
  },
  "cells": [
    {
      "cell_type": "code",
      "metadata": {
        "id": "eWU54rx9rb-U",
        "colab_type": "code",
        "colab": {}
      },
      "source": [
        "from keras.preprocessing.image import ImageDataGenerator\n",
        "from keras.models import Sequential\n",
        "from keras.layers import Conv2D, MaxPooling2D\n",
        "from keras.layers import Activation, Dropout, Flatten, Dense\n"
      ],
      "execution_count": 0,
      "outputs": []
    },
    {
      "cell_type": "code",
      "metadata": {
        "id": "geAipe6Krb-a",
        "colab_type": "code",
        "colab": {}
      },
      "source": [
        "#conv layers\n",
        "model = Sequential()\n",
        "#model.add(Conv2D(64, (3, 3), input_shape=(150,150,3)))\n",
        "model.add(Conv2D(64,(3,3),input_shape = (100,100,3), activation = 'relu'))\n",
        " \n",
        "model.add(MaxPooling2D(pool_size=(2, 2)))\n",
        "\n",
        "model.add(Conv2D(64,(3,3), activation = 'relu'))\n",
        "\n",
        " \n",
        "model.add(MaxPooling2D(pool_size=(2, 2)))\n",
        "\n",
        "model.add(Conv2D(64,(3,3), activation = 'relu'))\n",
        "model.add(MaxPooling2D(pool_size=(2, 2)))\n",
        "\n",
        "\n"
      ],
      "execution_count": 0,
      "outputs": []
    },
    {
      "cell_type": "code",
      "metadata": {
        "id": "YUJ2JsZWrb-d",
        "colab_type": "code",
        "colab": {}
      },
      "source": [
        "#fully connected layers\n",
        "model.add(Flatten())  \n",
        " \n",
        "model.add(Dense( activation = 'relu', units=64))\n",
        "\n",
        "model.add(Dense( activation = 'sigmoid', units=2)) \n",
        " \n"
      ],
      "execution_count": 0,
      "outputs": []
    },
    {
      "cell_type": "code",
      "metadata": {
        "id": "GDJkYoj6rb-g",
        "colab_type": "code",
        "colab": {
          "base_uri": "https://localhost:8080/",
          "height": 459
        },
        "outputId": "3e3abf0d-79ee-48ba-f182-69cab9d2acde"
      },
      "source": [
        "model.summary()"
      ],
      "execution_count": 60,
      "outputs": [
        {
          "output_type": "stream",
          "text": [
            "Model: \"sequential_4\"\n",
            "_________________________________________________________________\n",
            "Layer (type)                 Output Shape              Param #   \n",
            "=================================================================\n",
            "conv2d_10 (Conv2D)           (None, 98, 98, 64)        1792      \n",
            "_________________________________________________________________\n",
            "max_pooling2d_10 (MaxPooling (None, 49, 49, 64)        0         \n",
            "_________________________________________________________________\n",
            "conv2d_11 (Conv2D)           (None, 47, 47, 64)        36928     \n",
            "_________________________________________________________________\n",
            "max_pooling2d_11 (MaxPooling (None, 23, 23, 64)        0         \n",
            "_________________________________________________________________\n",
            "conv2d_12 (Conv2D)           (None, 21, 21, 64)        36928     \n",
            "_________________________________________________________________\n",
            "max_pooling2d_12 (MaxPooling (None, 10, 10, 64)        0         \n",
            "_________________________________________________________________\n",
            "flatten_4 (Flatten)          (None, 6400)              0         \n",
            "_________________________________________________________________\n",
            "dense_5 (Dense)              (None, 64)                409664    \n",
            "_________________________________________________________________\n",
            "dense_6 (Dense)              (None, 2)                 130       \n",
            "=================================================================\n",
            "Total params: 485,442\n",
            "Trainable params: 485,442\n",
            "Non-trainable params: 0\n",
            "_________________________________________________________________\n"
          ],
          "name": "stdout"
        }
      ]
    },
    {
      "cell_type": "code",
      "metadata": {
        "id": "d3C0KcSErb-n",
        "colab_type": "code",
        "colab": {}
      },
      "source": [
        "\n",
        "train_datagen = ImageDataGenerator(\n",
        "        rescale=1./255,\n",
        "       )\n",
        "\n",
        "test_datagen = ImageDataGenerator(rescale=1./255)"
      ],
      "execution_count": 0,
      "outputs": []
    },
    {
      "cell_type": "code",
      "metadata": {
        "id": "DkdAJ0K6rb-j",
        "colab_type": "code",
        "colab": {}
      },
      "source": [
        "model.compile(loss='binary_crossentropy',\n",
        "              optimizer='adam',\n",
        "              metrics=['accuracy'])"
      ],
      "execution_count": 0,
      "outputs": []
    },
    {
      "cell_type": "code",
      "metadata": {
        "id": "RK3DSi2Vs7aB",
        "colab_type": "code",
        "colab": {
          "base_uri": "https://localhost:8080/",
          "height": 34
        },
        "outputId": "6708f874-d4e5-40c5-864d-1f99a07bf095"
      },
      "source": [
        "from google.colab import drive\n",
        "drive.mount('/content/drive',force_remount=True)"
      ],
      "execution_count": 22,
      "outputs": [
        {
          "output_type": "stream",
          "text": [
            "Mounted at /content/drive\n"
          ],
          "name": "stdout"
        }
      ]
    },
    {
      "cell_type": "code",
      "metadata": {
        "id": "ntpbG-Gwrb-q",
        "colab_type": "code",
        "colab": {
          "base_uri": "https://localhost:8080/",
          "height": 34
        },
        "outputId": "91b6d66c-52c1-43b4-eac4-5d129e66fef8"
      },
      "source": [
        "train_set = train_datagen.flow_from_directory(\n",
        "        '/content/drive/My Drive/helmet_detection/training',\n",
        "        target_size=(100, 100),\n",
        "        class_mode='categorical')"
      ],
      "execution_count": 73,
      "outputs": [
        {
          "output_type": "stream",
          "text": [
            "Found 647 images belonging to 2 classes.\n"
          ],
          "name": "stdout"
        }
      ]
    },
    {
      "cell_type": "code",
      "metadata": {
        "id": "0L6CWMkNrb-u",
        "colab_type": "code",
        "colab": {
          "base_uri": "https://localhost:8080/",
          "height": 34
        },
        "outputId": "55a5d32d-3284-4c35-9699-c881f1c250e6"
      },
      "source": [
        "test_set = test_datagen.flow_from_directory(\n",
        "        '/content/drive/My Drive/helmet_detection/testing',\n",
        "        target_size=(100, 100),\n",
        "        class_mode='categorical')"
      ],
      "execution_count": 74,
      "outputs": [
        {
          "output_type": "stream",
          "text": [
            "Found 208 images belonging to 2 classes.\n"
          ],
          "name": "stdout"
        }
      ]
    },
    {
      "cell_type": "code",
      "metadata": {
        "id": "kP7bmya3rb-y",
        "colab_type": "code",
        "colab": {
          "base_uri": "https://localhost:8080/",
          "height": 204
        },
        "outputId": "cb194c8d-f6f5-4af3-deb6-0ccfe896361d"
      },
      "source": [
        "model.fit_generator(\n",
        "        train_set,\n",
        "        epochs=5,\n",
        "        validation_data=test_set)\n"
      ],
      "execution_count": 87,
      "outputs": [
        {
          "output_type": "stream",
          "text": [
            "Epoch 1/5\n",
            "21/21 [==============================] - 19s 889ms/step - loss: 0.4653 - acc: 0.7885 - val_loss: 0.3289 - val_acc: 0.8750\n",
            "Epoch 2/5\n",
            "21/21 [==============================] - 18s 864ms/step - loss: 0.4074 - acc: 0.8272 - val_loss: 0.3492 - val_acc: 0.8534\n",
            "Epoch 3/5\n",
            "21/21 [==============================] - 18s 863ms/step - loss: 0.3364 - acc: 0.8554 - val_loss: 0.3339 - val_acc: 0.8582\n",
            "Epoch 4/5\n",
            "21/21 [==============================] - 18s 861ms/step - loss: 0.3184 - acc: 0.8547 - val_loss: 0.4556 - val_acc: 0.7933\n",
            "Epoch 5/5\n",
            "21/21 [==============================] - 19s 881ms/step - loss: 0.2827 - acc: 0.8772 - val_loss: 0.7019 - val_acc: 0.7260\n"
          ],
          "name": "stdout"
        },
        {
          "output_type": "execute_result",
          "data": {
            "text/plain": [
              "<keras.callbacks.History at 0x7f4670585ba8>"
            ]
          },
          "metadata": {
            "tags": []
          },
          "execution_count": 87
        }
      ]
    },
    {
      "cell_type": "code",
      "metadata": {
        "id": "sjdC1CjDrb-2",
        "colab_type": "code",
        "colab": {
          "base_uri": "https://localhost:8080/",
          "height": 34
        },
        "outputId": "7fcb69aa-d5bb-481a-9d25-2f1561c118af"
      },
      "source": [
        "train_set.class_indices"
      ],
      "execution_count": 65,
      "outputs": [
        {
          "output_type": "execute_result",
          "data": {
            "text/plain": [
              "{'with helmet': 0, 'without helmet': 1}"
            ]
          },
          "metadata": {
            "tags": []
          },
          "execution_count": 65
        }
      ]
    },
    {
      "cell_type": "code",
      "metadata": {
        "id": "_Sq5LbSyrb-6",
        "colab_type": "code",
        "colab": {
          "base_uri": "https://localhost:8080/",
          "height": 34
        },
        "outputId": "c82186e7-d835-4489-e31f-08dbb5720842"
      },
      "source": [
        "label_map = (train_set.class_indices)\n",
        "print(label_map)"
      ],
      "execution_count": 66,
      "outputs": [
        {
          "output_type": "stream",
          "text": [
            "{'with helmet': 0, 'without helmet': 1}\n"
          ],
          "name": "stdout"
        }
      ]
    },
    {
      "cell_type": "code",
      "metadata": {
        "id": "lfanovsQrb-9",
        "colab_type": "code",
        "colab": {}
      },
      "source": [
        "import cv2\n",
        "import numpy as np\n",
        "\n"
      ],
      "execution_count": 0,
      "outputs": []
    },
    {
      "cell_type": "code",
      "metadata": {
        "id": "-a4a6A3srb_A",
        "colab_type": "code",
        "colab": {}
      },
      "source": [
        "#Prediction"
      ],
      "execution_count": 0,
      "outputs": []
    },
    {
      "cell_type": "code",
      "metadata": {
        "id": "cpoAyZ0frb_D",
        "colab_type": "code",
        "colab": {}
      },
      "source": [
        "## prediction of single new data\n",
        "import numpy as np\n",
        "from keras.preprocessing import image\n",
        "test_image= image.load_img('/content/drive/My Drive/helmet_detection/single_prediction/abg.jpg'\n",
        "                           ,target_size =(100,100))\n"
      ],
      "execution_count": 0,
      "outputs": []
    },
    {
      "cell_type": "code",
      "metadata": {
        "id": "wAmm2ajDrb_G",
        "colab_type": "code",
        "colab": {
          "base_uri": "https://localhost:8080/",
          "height": 117
        },
        "outputId": "56284087-8e2f-40bd-f0ff-8dcf77ed9d9d"
      },
      "source": [
        "test_image"
      ],
      "execution_count": 111,
      "outputs": [
        {
          "output_type": "execute_result",
          "data": {
            "image/png": "[encoded data removed]",
            "text/plain": [
              "<PIL.Image.Image image mode=RGB size=100x100 at 0x7F4670575DA0>"
            ]
          },
          "metadata": {
            "tags": []
          },
          "execution_count": 111
        }
      ]
    },
    {
      "cell_type": "code",
      "metadata": {
        "id": "vMxzfoJOrb_J",
        "colab_type": "code",
        "colab": {}
      },
      "source": [
        "## Convert image to array\n",
        "test_image = image.img_to_array(test_image)"
      ],
      "execution_count": 0,
      "outputs": []
    },
    {
      "cell_type": "code",
      "metadata": {
        "id": "vtYLkwDvrb_M",
        "colab_type": "code",
        "colab": {
          "base_uri": "https://localhost:8080/",
          "height": 34
        },
        "outputId": "5ce7af4a-8dad-4d55-b3b7-e521e1b4c91e"
      },
      "source": [
        "test_image.shape"
      ],
      "execution_count": 113,
      "outputs": [
        {
          "output_type": "execute_result",
          "data": {
            "text/plain": [
              "(100, 100, 3)"
            ]
          },
          "metadata": {
            "tags": []
          },
          "execution_count": 113
        }
      ]
    },
    {
      "cell_type": "code",
      "metadata": {
        "id": "ZXe7m3Bcrb_P",
        "colab_type": "code",
        "colab": {}
      },
      "source": [
        "test_image=test_image.reshape(1,100, 100, 3)"
      ],
      "execution_count": 0,
      "outputs": []
    },
    {
      "cell_type": "code",
      "metadata": {
        "id": "aSDZgdxVrb_T",
        "colab_type": "code",
        "colab": {}
      },
      "source": [
        "## For single prediction change the dimension using axis. To remove problem of batch\n",
        "#test_image = np.expand_dims(test_image,axis = 0)\n",
        "result = model.predict(test_image)"
      ],
      "execution_count": 0,
      "outputs": []
    },
    {
      "cell_type": "code",
      "metadata": {
        "id": "ht9J2h5Frb_W",
        "colab_type": "code",
        "colab": {
          "base_uri": "https://localhost:8080/",
          "height": 34
        },
        "outputId": "d260f191-062f-498f-c034-9fd6dc0c9813"
      },
      "source": [
        "np.around(result)"
      ],
      "execution_count": 116,
      "outputs": [
        {
          "output_type": "execute_result",
          "data": {
            "text/plain": [
              "array([[1., 0.]], dtype=float32)"
            ]
          },
          "metadata": {
            "tags": []
          },
          "execution_count": 116
        }
      ]
    },
    {
      "cell_type": "code",
      "metadata": {
        "id": "w4bUDJfnrb_b",
        "colab_type": "code",
        "colab": {}
      },
      "source": [
        "result=result.argmax()"
      ],
      "execution_count": 0,
      "outputs": []
    },
    {
      "cell_type": "code",
      "metadata": {
        "id": "IbD40ue2rb_i",
        "colab_type": "code",
        "colab": {
          "base_uri": "https://localhost:8080/",
          "height": 34
        },
        "outputId": "f4a50215-a973-4ac2-9f85-ebbed69beb7d"
      },
      "source": [
        "result"
      ],
      "execution_count": 118,
      "outputs": [
        {
          "output_type": "execute_result",
          "data": {
            "text/plain": [
              "0"
            ]
          },
          "metadata": {
            "tags": []
          },
          "execution_count": 118
        }
      ]
    },
    {
      "cell_type": "code",
      "metadata": {
        "id": "DMesu47grb_p",
        "colab_type": "code",
        "colab": {}
      },
      "source": [
        "## Class label of dog and cat\n",
        "\n",
        "if result == 0:\n",
        "    prediction = 'with helmet'\n",
        "else:\n",
        "    prediction = 'without helmet'\n",
        "    "
      ],
      "execution_count": 0,
      "outputs": []
    },
    {
      "cell_type": "code",
      "metadata": {
        "id": "qS_fPUpWrb_r",
        "colab_type": "code",
        "colab": {
          "base_uri": "https://localhost:8080/",
          "height": 34
        },
        "outputId": "2380adb5-98e8-4478-9b6e-1bd8cd0a6547"
      },
      "source": [
        "prediction"
      ],
      "execution_count": 120,
      "outputs": [
        {
          "output_type": "execute_result",
          "data": {
            "text/plain": [
              "'with helmet'"
            ]
          },
          "metadata": {
            "tags": []
          },
          "execution_count": 120
        }
      ]
    },
    {
      "cell_type": "code",
      "metadata": {
        "id": "2ZOI7gZIrb_u",
        "colab_type": "code",
        "colab": {}
      },
      "source": [
        ""
      ],
      "execution_count": 0,
      "outputs": []
    }
  ]
}