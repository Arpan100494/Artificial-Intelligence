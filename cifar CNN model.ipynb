{
 "cells": [
  {
   "cell_type": "code",
   "execution_count": 1,
   "metadata": {},
   "outputs": [],
   "source": [
    "import numpy as np # linear algebra\n",
    "import pandas as pd # data processing, CSV file I/O (e.g. pd.read_csv)\n",
    "import scipy as sp\n",
    "import matplotlib.pyplot as plt\n",
    "import seaborn as sns"
   ]
  },
  {
   "cell_type": "code",
   "execution_count": 5,
   "metadata": {},
   "outputs": [
    {
     "data": {
      "text/plain": [
       "['.ipynb_checkpoints',\n",
       " 'sample_submission.csv',\n",
       " 'test_images.npy',\n",
       " 'train_images.npy',\n",
       " 'train_labels.csv',\n",
       " 'Untitled.ipynb']"
      ]
     },
     "execution_count": 5,
     "metadata": {},
     "output_type": "execute_result"
    }
   ],
   "source": [
    "import os\n",
    "os.listdir()"
   ]
  },
  {
   "cell_type": "code",
   "execution_count": 6,
   "metadata": {},
   "outputs": [
    {
     "name": "stderr",
     "output_type": "stream",
     "text": [
      "Using TensorFlow backend.\n"
     ]
    }
   ],
   "source": [
    "import keras \n",
    "import keras.backend as k\n",
    "from keras.models import Sequential\n",
    "from keras.layers import Conv2D,MaxPooling2D,ZeroPadding2D\n",
    "from keras.layers import Dense,Dropout,Flatten\n",
    "from keras.layers.normalization import BatchNormalization\n",
    "from keras import losses\n",
    "from keras.optimizers import Adam,RMSprop,Adadelta\n",
    "from sklearn.model_selection import train_test_split\n",
    "\n",
    "from keras.applications.vgg16 import preprocess_input,decode_predictions\n",
    "import matplotlib.pyplot as plt"
   ]
  },
  {
   "cell_type": "code",
   "execution_count": 36,
   "metadata": {},
   "outputs": [
    {
     "data": {
      "text/plain": [
       "(50000, 32, 32, 3)"
      ]
     },
     "execution_count": 36,
     "metadata": {},
     "output_type": "execute_result"
    }
   ],
   "source": [
    "num_classes=10\n",
    "#load the image data\n",
    "train_data=np.load('train_images.npy')\n",
    "train_data=np.reshape(train_data,(50000,32,32,3))\n",
    "train_data.shape"
   ]
  },
  {
   "cell_type": "code",
   "execution_count": 39,
   "metadata": {},
   "outputs": [
    {
     "data": {
      "text/plain": [
       "(200000, 32, 32, 3)"
      ]
     },
     "execution_count": 39,
     "metadata": {},
     "output_type": "execute_result"
    }
   ],
   "source": [
    "test_data = np.load(\"test_images.npy\")\n",
    "test_data = np.reshape(test_data,(200000,32,32,3))\n",
    "test_data.shape"
   ]
  },
  {
   "cell_type": "code",
   "execution_count": 41,
   "metadata": {},
   "outputs": [
    {
     "data": {
      "text/html": [
       "<div>\n",
       "<style scoped>\n",
       "    .dataframe tbody tr th:only-of-type {\n",
       "        vertical-align: middle;\n",
       "    }\n",
       "\n",
       "    .dataframe tbody tr th {\n",
       "        vertical-align: top;\n",
       "    }\n",
       "\n",
       "    .dataframe thead th {\n",
       "        text-align: right;\n",
       "    }\n",
       "</style>\n",
       "<table border=\"1\" class=\"dataframe\">\n",
       "  <thead>\n",
       "    <tr style=\"text-align: right;\">\n",
       "      <th></th>\n",
       "      <th>Id</th>\n",
       "      <th>Category</th>\n",
       "    </tr>\n",
       "  </thead>\n",
       "  <tbody>\n",
       "    <tr>\n",
       "      <th>0</th>\n",
       "      <td>1</td>\n",
       "      <td>frog</td>\n",
       "    </tr>\n",
       "    <tr>\n",
       "      <th>1</th>\n",
       "      <td>2</td>\n",
       "      <td>truck</td>\n",
       "    </tr>\n",
       "    <tr>\n",
       "      <th>2</th>\n",
       "      <td>3</td>\n",
       "      <td>truck</td>\n",
       "    </tr>\n",
       "    <tr>\n",
       "      <th>3</th>\n",
       "      <td>4</td>\n",
       "      <td>deer</td>\n",
       "    </tr>\n",
       "    <tr>\n",
       "      <th>4</th>\n",
       "      <td>5</td>\n",
       "      <td>automobile</td>\n",
       "    </tr>\n",
       "  </tbody>\n",
       "</table>\n",
       "</div>"
      ],
      "text/plain": [
       "   Id    Category\n",
       "0   1        frog\n",
       "1   2       truck\n",
       "2   3       truck\n",
       "3   4        deer\n",
       "4   5  automobile"
      ]
     },
     "execution_count": 41,
     "metadata": {},
     "output_type": "execute_result"
    }
   ],
   "source": [
    "labels = pd.read_csv(\"train_labels.csv\")\n",
    "labels.head()"
   ]
  },
  {
   "cell_type": "code",
   "execution_count": 44,
   "metadata": {},
   "outputs": [
    {
     "data": {
      "text/plain": [
       "0          frog\n",
       "1         truck\n",
       "2         truck\n",
       "3          deer\n",
       "4    automobile\n",
       "Name: Category, dtype: object"
      ]
     },
     "execution_count": 44,
     "metadata": {},
     "output_type": "execute_result"
    }
   ],
   "source": [
    "label_data = pd.Series(labels[\"Category\"])\n",
    "label_data.head()"
   ]
  },
  {
   "cell_type": "markdown",
   "metadata": {},
   "source": [
    "# Normalization"
   ]
  },
  {
   "cell_type": "code",
   "execution_count": 51,
   "metadata": {},
   "outputs": [],
   "source": [
    "from sklearn.preprocessing import LabelBinarizer\n",
    "lb=LabelBinarizer()\n",
    "label_data=lb.fit_transform(label_data)\n",
    "\n",
    "\n",
    "train_data=train_data/255\n",
    "test_data=test_data/255"
   ]
  },
  {
   "cell_type": "markdown",
   "metadata": {},
   "source": [
    "# Split the train dataset"
   ]
  },
  {
   "cell_type": "code",
   "execution_count": 56,
   "metadata": {},
   "outputs": [
    {
     "name": "stdout",
     "output_type": "stream",
     "text": [
      "(40000, 32, 32, 3) (10000, 32, 32, 3)\n",
      "(40000, 10) (10000, 10)\n"
     ]
    }
   ],
   "source": [
    "X_train,X_val,Y_train,Y_val=train_test_split(train_data,label_data,test_size=0.2,random_state=42)\n",
    "print(X_train.shape,X_val.shape)\n",
    "print(Y_train.shape,Y_val.shape)"
   ]
  },
  {
   "cell_type": "markdown",
   "metadata": {},
   "source": [
    "# CNN model"
   ]
  },
  {
   "cell_type": "code",
   "execution_count": 58,
   "metadata": {},
   "outputs": [],
   "source": [
    "model = Sequential()\n",
    "model.add(Conv2D(32, (3, 3),activation='relu',input_shape=(32,32,3)))\n",
    "model.add(Conv2D(64, (3, 3), activation='relu'))\n",
    "model.add(MaxPooling2D(pool_size=(2, 2)))\n",
    "model.add(Dropout(0.25))\n",
    "model.add(Flatten())\n",
    "model.add(Dense(128, activation='relu'))\n",
    "model.add(Dropout(0.5))\n",
    "model.add(Dense(num_classes, activation='softmax'))"
   ]
  },
  {
   "cell_type": "markdown",
   "metadata": {},
   "source": [
    "# Compile the model"
   ]
  },
  {
   "cell_type": "code",
   "execution_count": 61,
   "metadata": {},
   "outputs": [],
   "source": [
    "model.compile(loss=losses.categorical_crossentropy,optimizer=Adadelta(),metrics=['accuracy'])"
   ]
  },
  {
   "cell_type": "markdown",
   "metadata": {},
   "source": [
    "# Training the model"
   ]
  },
  {
   "cell_type": "code",
   "execution_count": 63,
   "metadata": {},
   "outputs": [
    {
     "name": "stdout",
     "output_type": "stream",
     "text": [
      "Train on 40000 samples, validate on 10000 samples\n",
      "Epoch 1/10\n",
      "40000/40000 [==============================] - 125s 3ms/step - loss: 1.7335 - acc: 0.3814 - val_loss: 1.4349 - val_acc: 0.4924\n",
      "Epoch 2/10\n",
      "40000/40000 [==============================] - 125s 3ms/step - loss: 1.4359 - acc: 0.4922 - val_loss: 1.2619 - val_acc: 0.5632\n",
      "Epoch 3/10\n",
      "40000/40000 [==============================] - 131s 3ms/step - loss: 1.3012 - acc: 0.5446 - val_loss: 1.2221 - val_acc: 0.5766\n",
      "Epoch 4/10\n",
      "40000/40000 [==============================] - 124s 3ms/step - loss: 1.2003 - acc: 0.5798 - val_loss: 1.1422 - val_acc: 0.6021\n",
      "Epoch 5/10\n",
      "40000/40000 [==============================] - 127s 3ms/step - loss: 1.1255 - acc: 0.6061 - val_loss: 1.0900 - val_acc: 0.6231\n",
      "Epoch 6/10\n",
      "40000/40000 [==============================] - 140s 3ms/step - loss: 1.0540 - acc: 0.6326 - val_loss: 1.0692 - val_acc: 0.6332\n",
      "Epoch 7/10\n",
      "40000/40000 [==============================] - 137s 3ms/step - loss: 0.9906 - acc: 0.6545 - val_loss: 1.0506 - val_acc: 0.6382\n",
      "Epoch 8/10\n",
      "40000/40000 [==============================] - 134s 3ms/step - loss: 0.9351 - acc: 0.6728 - val_loss: 1.0250 - val_acc: 0.6535\n",
      "Epoch 9/10\n",
      "40000/40000 [==============================] - 138s 3ms/step - loss: 0.8801 - acc: 0.6929 - val_loss: 1.0337 - val_acc: 0.6508\n",
      "Epoch 10/10\n",
      "40000/40000 [==============================] - 135s 3ms/step - loss: 0.8284 - acc: 0.7078 - val_loss: 1.0090 - val_acc: 0.6589\n"
     ]
    }
   ],
   "source": [
    "cnn=model.fit(X_train,Y_train,batch_size=128,epochs=10,verbose=1,validation_data=(X_val,Y_val),shuffle=True)"
   ]
  },
  {
   "cell_type": "code",
   "execution_count": 68,
   "metadata": {},
   "outputs": [
    {
     "data": {
      "image/png": "[encoded data removed]",
      "text/plain": [
       "<Figure size 720x432 with 1 Axes>"
      ]
     },
     "metadata": {
      "needs_background": "light"
     },
     "output_type": "display_data"
    },
    {
     "data": {
      "image/png": "[encoded data removed]",
      "text/plain": [
       "<Figure size 720x432 with 1 Axes>"
      ]
     },
     "metadata": {
      "needs_background": "light"
     },
     "output_type": "display_data"
    }
   ],
   "source": [
    "#Plots fro training and validation process:loss and accuracy\n",
    "plt.figure(figsize=(10,6))\n",
    "plt.plot(cnn.history['acc'],'g')\n",
    "plt.plot(cnn.history['val_acc'],'b')\n",
    "plt.xticks(np.arange(1,10))\n",
    "plt.title('training accuracy vs validation accuracy')\n",
    "plt.xlabel('No. of Epochs')\n",
    "plt.ylabel('Accuracy')\n",
    "plt.legend(['train','validation'])\n",
    "plt.show()\n",
    "\n",
    "plt.figure(figsize=(10,6))\n",
    "plt.plot(cnn.history['loss'],'g')\n",
    "plt.plot(cnn.history['val_loss'],'b')\n",
    "plt.xticks(np.arange(1,10))\n",
    "plt.title('training loss vs validation loss')\n",
    "plt.xlabel('No. of Epochs')\n",
    "plt.ylabel('loss')\n",
    "plt.legend(['train','validation'])\n",
    "plt.show()"
   ]
  },
  {
   "cell_type": "markdown",
   "metadata": {},
   "source": [
    "# prediction"
   ]
  },
  {
   "cell_type": "code",
   "execution_count": 73,
   "metadata": {},
   "outputs": [
    {
     "data": {
      "text/plain": [
       "array([3], dtype=int64)"
      ]
     },
     "execution_count": 73,
     "metadata": {},
     "output_type": "execute_result"
    }
   ],
   "source": [
    "model.predict_classes(test_data[3].reshape(1,32,32,3))"
   ]
  },
  {
   "cell_type": "code",
   "execution_count": null,
   "metadata": {},
   "outputs": [],
   "source": []
  }
 ],
 "metadata": {
  "kernelspec": {
   "display_name": "Python 3",
   "language": "python",
   "name": "python3"
  },
  "language_info": {
   "codemirror_mode": {
    "name": "ipython",
    "version": 3
   },
   "file_extension": ".py",
   "mimetype": "text/x-python",
   "name": "python",
   "nbconvert_exporter": "python",
   "pygments_lexer": "ipython3",
   "version": "3.7.2"
  }
 },
 "nbformat": 4,
 "nbformat_minor": 2
}
